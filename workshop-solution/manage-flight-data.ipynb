{
 "cells": [
  {
   "cell_type": "code",
   "execution_count": null,
   "metadata": {},
   "outputs": [],
   "source": [
    "import pandas as pd\n",
    "import warnings\n",
    "\n",
    "warnings.filterwarnings(\"ignore\")\n",
    "\n",
    "# Load the dataset\n",
    "df = pd.read_csv('../data/flights.csv')\n",
    "\n",
    "# Display the first few rows\n",
    "df.head()\n"
   ]
  },
  {
   "cell_type": "code",
   "execution_count": null,
   "metadata": {},
   "outputs": [],
   "source": [
    "# Identify null values\n",
    "null_values = df.isnull().sum()\n",
    "null_values\n"
   ]
  },
  {
   "cell_type": "code",
   "execution_count": 4,
   "metadata": {},
   "outputs": [],
   "source": [
    "# replace null values with 0\n",
    "null_values.fillna(0, inplace=True)"
   ]
  },
  {
   "cell_type": "code",
   "execution_count": 5,
   "metadata": {},
   "outputs": [],
   "source": [
    "# show departures that were delayed by more than 15 minutes\n",
    "df[df['DepDel15'].isnull()]['DepDelay']\n",
    "\n",
    "#update DelDel15 to 0 if null\n",
    "df['DepDel15'].fillna(0, inplace=True)"
   ]
  },
  {
   "cell_type": "code",
   "execution_count": 6,
   "metadata": {},
   "outputs": [],
   "source": [
    "# normalize the data by removing outliers from depdelay and arrdelay\n",
    "\n",
    "# Calculate the z-scores of depdelay and arrdelay\n",
    "z_scores = (df[['DepDelay', 'ArrDelay']] - df[['DepDelay', 'ArrDelay']].mean()) / df[['DepDelay', 'ArrDelay']].std()\n",
    "\n",
    "# Calculate the absolute z-scores\n",
    "abs_z_scores = z_scores.abs()\n",
    "\n",
    "# Get the rows with outliers\n",
    "outliers = (abs_z_scores > 3).any(axis=1)\n",
    "\n",
    "# Remove the outliers\n",
    "df = df[~outliers]\n"
   ]
  },
  {
   "cell_type": "code",
   "execution_count": null,
   "metadata": {},
   "outputs": [],
   "source": [
    "# show newly cleaned data\n",
    "df.head(10)"
   ]
  },
  {
   "cell_type": "code",
   "execution_count": null,
   "metadata": {},
   "outputs": [],
   "source": [
    "# Create a bar chart showing arrival delay that was greater than 15 minutes by airline\n",
    "import matplotlib.pyplot as plt\n",
    "import seaborn as sns\n",
    "# Group by airline and calculate the number of delayed flights\n",
    "delayed_flights = df[df['ArrDel15'] == 1].groupby('Carrier').size()\n",
    "\n",
    "# Sort the number of delayed flights in ascending order\n",
    "delayed_flights = delayed_flights.sort_values(ascending=True)\n",
    "\n",
    "# Create a bar chart\n",
    "plt.figure(figsize=(10, 6))\n",
    "sns.barplot(x=delayed_flights.index, y=delayed_flights.values, palette='viridis')\n",
    "plt.title('Number of Flights with Arrival Delay > 15 minutes by Airline')\n",
    "plt.ylabel('Number of Flights')\n",
    "plt.xlabel('Airline')\n",
    "plt.xticks(rotation=45)\n",
    "plt.show()"
   ]
  },
  {
   "cell_type": "code",
   "execution_count": null,
   "metadata": {},
   "outputs": [],
   "source": [
    "# which route has the most late arrivals from origin airport to destination airport?\n",
    "\n",
    "# Group by origin and destination cities and calculate the number of delayed flights\n",
    "delayed_flights_route = df[df['ArrDel15'] == 1].groupby(['OriginCity', 'DestCity']).size()\n",
    "\n",
    "# Sort the number of delayed flights in ascending order\n",
    "delayed_flights_route = delayed_flights_route.sort_values(ascending=True)\n",
    "\n",
    "# Display the top 10 routes with the most delayed flights\n",
    "delayed_flights_route.tail(10)"
   ]
  },
  {
   "cell_type": "code",
   "execution_count": null,
   "metadata": {},
   "outputs": [],
   "source": [
    "# Check the distribution of the target column to see how many flights are delayed (1) and not delayed (0)\n",
    "print(df['ArrDel15'].value_counts())"
   ]
  },
  {
   "cell_type": "code",
   "execution_count": null,
   "metadata": {},
   "outputs": [],
   "source": [
    "# Create a model to predict the likelihood of a flight being delayed based on the day of the week and the arrival airport\n",
    "# use a logistic regression model\n",
    "# split the date into training and testing sets\n",
    "# train the model\n",
    "# calculate the accuracy of the model\n",
    "\n"
   ]
  },
  {
   "cell_type": "code",
   "execution_count": null,
   "metadata": {},
   "outputs": [],
   "source": [
    "# show the odds of a flight being delayed to Chicago on a Monday"
   ]
  },
  {
   "cell_type": "code",
   "execution_count": null,
   "metadata": {},
   "outputs": [],
   "source": [
    "# Make a prediction of the odds of a flight being delayed to Los Angeles on a Wednesday\n",
    "# get the airport ID for Los Angeles"
   ]
  },
  {
   "cell_type": "code",
   "execution_count": 22,
   "metadata": {},
   "outputs": [],
   "source": [
    "# Get unique column values for origin airport and id and export to CSV"
   ]
  },
  {
   "cell_type": "code",
   "execution_count": 24,
   "metadata": {},
   "outputs": [],
   "source": [
    "# export the model to import later into Flask\n",
    "import pickle\n",
    "\n",
    "pickle.dump(model, open('server/model.pkl', 'wb'))"
   ]
  }
 ],
 "metadata": {
  "kernelspec": {
   "display_name": "base",
   "language": "python",
   "name": "python3"
  },
  "language_info": {
   "codemirror_mode": {
    "name": "ipython",
    "version": 3
   },
   "file_extension": ".py",
   "mimetype": "text/x-python",
   "name": "python",
   "nbconvert_exporter": "python",
   "pygments_lexer": "ipython3",
   "version": "3.11.8"
  }
 },
 "nbformat": 4,
 "nbformat_minor": 2
}
